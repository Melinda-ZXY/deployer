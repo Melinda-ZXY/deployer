{
 "cells": [
  {
   "cell_type": "code",
   "execution_count": 66,
   "id": "b4dc6da2-3903-441e-b91b-f1fa232628ed",
   "metadata": {
    "tags": []
   },
   "outputs": [],
   "source": [
    "import requests\n",
    "import pprint\n",
    "import json\n",
    "from datetime import datetime"
   ]
  },
  {
   "cell_type": "code",
   "execution_count": 15,
   "id": "8135b4fc-fb3d-468c-ba9d-cf318d08d327",
   "metadata": {
    "tags": []
   },
   "outputs": [],
   "source": [
    "headers = {\n",
    "\t\"X-RapidAPI-Key\": \"1b0a42ee93msh3c60044810c2171p15d22bjsn431cea4eea20\",\n",
    "\t\"X-RapidAPI-Host\": \"api-football-v1.p.rapidapi.com\"\n",
    "}\n",
    "\n",
    "pp = pprint.PrettyPrinter(depth=6)"
   ]
  },
  {
   "cell_type": "code",
   "execution_count": 25,
   "id": "410ec9f5-f534-4019-b214-5151023baaa5",
   "metadata": {
    "tags": []
   },
   "outputs": [],
   "source": [
    "# Finding all leagues in England\n",
    "url = \"https://api-football-v1.p.rapidapi.com/v3/leagues\"\n",
    "\n",
    "querystring = {\"country\":\"England\"}\n",
    "\n",
    "response = requests.request(\"GET\", url, headers=headers, params=querystring)\n",
    "\n",
    "loaded_r = json.loads(response.text)\n",
    "\n",
    "with open('result.json', 'w') as fp:\n",
    "    json.dump(loaded_r, fp)"
   ]
  },
  {
   "cell_type": "code",
   "execution_count": 50,
   "id": "48c5464b-674a-44fe-98ef-47f85a4eb55f",
   "metadata": {
    "tags": []
   },
   "outputs": [],
   "source": [
    "# Getting all teams in Premier League\n",
    "league_id = 2\n",
    "url = \"https://api-football-v1.p.rapidapi.com/v2/teams/league/\" + str(league_id)\n",
    "\n",
    "response = requests.request(\"GET\", url, headers=headers)\n",
    "\n",
    "loaded_r = json.loads(response.text)\n",
    "\n",
    "with open('premier_league.json', 'w') as fp:\n",
    "    json.dump(loaded_r, fp)"
   ]
  },
  {
   "cell_type": "code",
   "execution_count": 108,
   "id": "3d294181-280f-421d-9aa3-59dff022a861",
   "metadata": {
    "tags": []
   },
   "outputs": [
    {
     "name": "stdout",
     "output_type": "stream",
     "text": [
      "{'Newcastle': {'Shots on Goal': 6, 'Shots off Goal': 9, 'Total Shots': 22, 'Blocked Shots': 7, 'Shots insidebox': 16, 'Shots outsidebox': 6, 'Fouls': 8, 'Corner Kicks': 7, 'Offsides': 1, 'Ball Possession': '46%', 'Yellow Cards': None, 'Red Cards': None, 'Goalkeeper Saves': 1, 'Total passes': 343, 'Passes accurate': 264, 'Passes %': '77%', 'expected_goals': '3.68'}, 'Manchester United': {'Shots on Goal': 1, 'Shots off Goal': 3, 'Total Shots': 6, 'Blocked Shots': 2, 'Shots insidebox': 5, 'Shots outsidebox': 1, 'Fouls': 12, 'Corner Kicks': 4, 'Offsides': None, 'Ball Possession': '54%', 'Yellow Cards': None, 'Red Cards': None, 'Goalkeeper Saves': 4, 'Total passes': 417, 'Passes accurate': 338, 'Passes %': '81%', 'expected_goals': '0.43'}}\n",
      "halftime Newcastle Manchester United\n",
      "fulltime Newcastle Manchester United\n",
      "extratime Newcastle Manchester United\n",
      "penalty Newcastle Manchester United\n",
      "{'Newcastle': {'Shots on Goal': 6, 'Shots off Goal': 9, 'Total Shots': 22, 'Blocked Shots': 7, 'Shots insidebox': 16, 'Shots outsidebox': 6, 'Fouls': 8, 'Corner Kicks': 7, 'Offsides': 1, 'Ball Possession': '46%', 'Yellow Cards': None, 'Red Cards': None, 'Goalkeeper Saves': 1, 'Total passes': 343, 'Passes accurate': 264, 'Passes %': '77%', 'expected_goals': '3.68', 'halftime': 0, 'fulltime': 2, 'extratime': None, 'penalty': None}, 'Manchester United': {'Shots on Goal': 1, 'Shots off Goal': 3, 'Total Shots': 6, 'Blocked Shots': 2, 'Shots insidebox': 5, 'Shots outsidebox': 1, 'Fouls': 12, 'Corner Kicks': 4, 'Offsides': None, 'Ball Possession': '54%', 'Yellow Cards': None, 'Red Cards': None, 'Goalkeeper Saves': 4, 'Total passes': 417, 'Passes accurate': 338, 'Passes %': '81%', 'expected_goals': '0.43', 'halftime': 0, 'fulltime': 0, 'extratime': None, 'penalty': None}}\n"
     ]
    }
   ],
   "source": [
    "def get_key_observations(team1, team2, month, day, year):\n",
    "    # get fixture id of mentioned match\n",
    "    url = \"https://api-football-v1.p.rapidapi.com/v3/fixtures/headtohead\"\n",
    "    \n",
    "    with open('team_to_id.json', 'r') as f:\n",
    "        data = json.load(f)\n",
    "        \n",
    "        team1_id = data[team1][\"team_id\"]\n",
    "        team2_id = data[team2][\"team_id\"]\n",
    "        \n",
    "        h2h = \"{id1}-{id2}\".format(id1=team1_id, id2=team2_id)\n",
    "        date = f'{year:02}-{month:02}-{day:02}' \n",
    "        # print(date)\n",
    "        \n",
    "    querystring = {\"h2h\":h2h, \"date\":date}\n",
    "\n",
    "    response = requests.request(\"GET\", url, headers=headers, params=querystring)\n",
    "    loaded_r = json.loads(response.text)\n",
    "    \n",
    "    for fixture in loaded_r[\"response\"]:\n",
    "        fixture_id = fixture[\"fixture\"][\"id\"]\n",
    "        score_dict = fixture[\"score\"]\n",
    "        home_away = {\"home\": fixture[\"teams\"][\"home\"][\"name\"], \"away\": fixture[\"teams\"][\"away\"][\"name\"]}\n",
    "        # print(home_away)\n",
    "    \n",
    "    # get fixture statistics \n",
    "    url = \"https://api-football-v1.p.rapidapi.com/v3/fixtures/statistics\"\n",
    "    \n",
    "    querystring = {\"fixture\":fixture_id}\n",
    "    \n",
    "    response = requests.request(\"GET\", url, headers=headers, params=querystring)\n",
    "    loaded_r = json.loads(response.text)\n",
    "    \n",
    "    # with open('temp_stats.json', 'w') as fp:\n",
    "    #     json.dump(loaded_r, fp)\n",
    "    \n",
    "    curr_dict = {}\n",
    "    \n",
    "    for team in loaded_r[\"response\"]:\n",
    "        name = team[\"team\"][\"name\"]\n",
    "\n",
    "        stat = team[\"statistics\"]\n",
    "        temp = {}\n",
    "        \n",
    "        # add statistics to dict\n",
    "        for curr in stat:\n",
    "            curr_type, val = curr[\"type\"], curr[\"value\"]\n",
    "            temp[curr_type] = val\n",
    "            \n",
    "        curr_dict[name] = temp\n",
    "    # print(curr_dict)\n",
    "        \n",
    "    # add halftime and fulltime score to statistics\n",
    "    for ele in score_dict:\n",
    "        home_score = score_dict[ele][\"home\"]\n",
    "        away_score = score_dict[ele][\"away\"]\n",
    "\n",
    "        home_team = home_away[\"home\"]\n",
    "        away_team = home_away[\"away\"]\n",
    "\n",
    "        print(ele, home_team, away_team)\n",
    "\n",
    "        curr_dict[home_team][ele] = home_score\n",
    "        curr_dict[away_team][ele] = away_score\n",
    "    \n",
    "    return curr_dict\n",
    "\n",
    "        \n",
    "get_key_observations(\"Manchester United\", \"Newcastle\", 4, 2, 2023)"
   ]
  },
  {
   "cell_type": "code",
   "execution_count": 52,
   "id": "e41f9f09-6ba9-4429-a92f-d906b592087b",
   "metadata": {
    "tags": []
   },
   "outputs": [],
   "source": [
    "# Create another json from premier_league with team name as key, val as {name, country}\n",
    "\n",
    "curr = {}\n",
    "\n",
    "with open('premier_league.json', 'r') as f:\n",
    "    data = json.load(f)\n",
    "\n",
    "    for curr_team in data[\"api\"][\"teams\"]:\n",
    "        # print(curr_team)\n",
    "        team_id = curr_team[\"team_id\"]\n",
    "        name = curr_team[\"name\"]\n",
    "        \n",
    "        curr[name] = {\"team_id\": team_id}\n",
    "        \n",
    "with open('team_to_id.json', 'w') as f:\n",
    "    json.dump(curr, f)\n",
    "        "
   ]
  },
  {
   "cell_type": "code",
   "execution_count": 97,
   "id": "aac7c25e-b913-43ea-9e44-ee85afd06853",
   "metadata": {
    "tags": []
   },
   "outputs": [
    {
     "name": "stdout",
     "output_type": "stream",
     "text": [
      "('{\"get\":\"fixtures\\\\/headtohead\",\"parameters\":{\"date\":\"2023-04-02\",\"h2h\":\"33-34\"},\"errors\":[],\"results\":1,\"paging\":{\"current\":1,\"total\":1},\"response\":[{\"fixture\":{\"id\":868233,\"referee\":\"Stuart '\n",
      " 'Attwell, '\n",
      " 'England\",\"timezone\":\"UTC\",\"date\":\"2023-04-02T15:30:00+00:00\",\"timestamp\":1680449400,\"periods\":{\"first\":1680449400,\"second\":1680453000},\"venue\":{\"id\":562,\"name\":\"St. '\n",
      " 'James\\' Park\",\"city\":\"Newcastle upon Tyne\"},\"status\":{\"long\":\"Match '\n",
      " 'Finished\",\"short\":\"FT\",\"elapsed\":90}},\"league\":{\"id\":39,\"name\":\"Premier '\n",
      " 'League\",\"country\":\"England\",\"logo\":\"https:\\\\/\\\\/media-3.api-sports.io\\\\/football\\\\/leagues\\\\/39.png\",\"flag\":\"https:\\\\/\\\\/media-2.api-sports.io\\\\/flags\\\\/gb.svg\",\"season\":2022,\"round\":\"Regular '\n",
      " 'Season - '\n",
      " '29\"},\"teams\":{\"home\":{\"id\":34,\"name\":\"Newcastle\",\"logo\":\"https:\\\\/\\\\/media-2.api-sports.io\\\\/football\\\\/teams\\\\/34.png\",\"winner\":true},\"away\":{\"id\":33,\"name\":\"Manchester '\n",
      " 'United\",\"logo\":\"https:\\\\/\\\\/media-3.api-sports.io\\\\/football\\\\/teams\\\\/33.png\",\"winner\":false}},\"goals\":{\"home\":2,\"away\":0},\"score\":{\"halftime\":{\"home\":0,\"away\":0},\"fulltime\":{\"home\":2,\"away\":0},\"extratime\":{\"home\":null,\"away\":null},\"penalty\":{\"home\":null,\"away\":null}}}]}')\n"
     ]
    }
   ],
   "source": [
    "# Test head to head endpoint\n",
    "querystring = {\"h2h\":\"33-34\", \"date\": \"2023-04-02\"}\n",
    "\n",
    "url = \"https://api-football-v1.p.rapidapi.com/v3/fixtures/headtohead\"\n",
    "\n",
    "response = requests.request(\"GET\", url, headers=headers, params=querystring)\n",
    "\n",
    "pp.pprint(response.text)"
   ]
  },
  {
   "cell_type": "code",
   "execution_count": null,
   "id": "87f7120e-eddd-4fee-9508-70692e148fa8",
   "metadata": {},
   "outputs": [],
   "source": []
  }
 ],
 "metadata": {
  "kernelspec": {
   "display_name": "Python 3.9.10 64-bit ('venv': venv)",
   "language": "python",
   "name": "python3910jvsc74a57bd049a2370c83eff5778469044ed298015b08ac889e9c961a67d04286ef759f2a67"
  },
  "language_info": {
   "codemirror_mode": {
    "name": "ipython",
    "version": 3
   },
   "file_extension": ".py",
   "mimetype": "text/x-python",
   "name": "python",
   "nbconvert_exporter": "python",
   "pygments_lexer": "ipython3",
   "version": "3.9.16"
  }
 },
 "nbformat": 4,
 "nbformat_minor": 5
}
